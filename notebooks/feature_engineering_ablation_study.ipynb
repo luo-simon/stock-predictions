{
 "cells": [
  {
   "cell_type": "markdown",
   "metadata": {},
   "source": [
    "# Feature Engineering Ablation Study"
   ]
  },
  {
   "cell_type": "code",
   "execution_count": 88,
   "metadata": {},
   "outputs": [
    {
     "name": "stdout",
     "output_type": "stream",
     "text": [
      "The autoreload extension is already loaded. To reload it, use:\n",
      "  %reload_ext autoreload\n"
     ]
    }
   ],
   "source": [
    "import numpy as np\n",
    "import seaborn as sns\n",
    "import pandas as pd\n",
    "import scipy.stats as stats\n",
    "import matplotlib.pyplot as plt\n",
    "from src.evaluate import get_results_df\n",
    "from src.misc import load_processed_dataset\n",
    "import sys  \n",
    "\n",
    "sys.path.insert(1, '/Users/simon/Documents/II/Dissertation/')\n",
    "%load_ext autoreload\n",
    "%autoreload 2"
   ]
  },
  {
   "cell_type": "code",
   "execution_count": 5,
   "metadata": {},
   "outputs": [
    {
     "name": "stdout",
     "output_type": "stream",
     "text": [
      "Loading Linear_NVDA_Yes-Feature-Engineering.\n",
      "Rank 1: trial no. 0, value: 45.0199203187251. Run completed at 2024-04-29 14:16:50.763116\n",
      "Loading Linear_NVDA_No-Feature-Engineering.\n",
      "Rank 1: trial no. 0, value: 48.20717131474104. Run completed at 2024-04-29 14:16:49.600029\n",
      "Loading Linear_JPM_Yes-Feature-Engineering.\n",
      "Rank 1: trial no. 0, value: 46.613545816733065. Run completed at 2024-04-29 14:16:53.084257\n",
      "Loading Linear_JPM_No-Feature-Engineering.\n",
      "Rank 1: trial no. 0, value: 46.613545816733065. Run completed at 2024-04-29 14:16:51.934299\n",
      "Loading Linear_HD_Yes-Feature-Engineering.\n",
      "Rank 1: trial no. 0, value: 52.589641434262944. Run completed at 2024-04-29 14:16:55.412646\n",
      "Loading Linear_HD_No-Feature-Engineering.\n",
      "Rank 1: trial no. 0, value: 49.40239043824701. Run completed at 2024-04-29 14:16:54.284397\n",
      "Loading Linear_UNH_Yes-Feature-Engineering.\n",
      "Rank 1: trial no. 0, value: 47.808764940239044. Run completed at 2024-04-29 14:16:57.722188\n",
      "Loading Linear_UNH_No-Feature-Engineering.\n",
      "Rank 1: trial no. 0, value: 55.77689243027888. Run completed at 2024-04-29 14:16:56.589737\n",
      "Loading ARIMA_NVDA_Yes-Feature-Engineering.\n",
      "Rank 1: trial no. 0, value: 54.980079681274894. Run completed at 2024-04-29 14:17:12.819213\n",
      "Loading ARIMA_NVDA_No-Feature-Engineering.\n",
      "Rank 1: trial no. 0, value: 46.21513944223107. Run completed at 2024-04-29 14:17:00.772048\n",
      "Loading ARIMA_JPM_Yes-Feature-Engineering.\n",
      "Rank 1: trial no. 0, value: 51.39442231075697. Run completed at 2024-04-29 14:17:28.279760\n",
      "Loading ARIMA_JPM_No-Feature-Engineering.\n",
      "Rank 1: trial no. 0, value: 46.613545816733065. Run completed at 2024-04-29 14:17:15.813764\n",
      "Loading ARIMA_HD_Yes-Feature-Engineering.\n",
      "Rank 1: trial no. 0, value: 52.589641434262944. Run completed at 2024-04-29 14:17:42.183274\n",
      "Loading ARIMA_HD_No-Feature-Engineering.\n",
      "Rank 1: trial no. 0, value: 48.60557768924303. Run completed at 2024-04-29 14:17:31.028398\n",
      "Loading ARIMA_UNH_Yes-Feature-Engineering.\n",
      "Rank 1: trial no. 0, value: 46.613545816733065. Run completed at 2024-04-29 14:17:56.707862\n",
      "Loading ARIMA_UNH_No-Feature-Engineering.\n",
      "Rank 1: trial no. 0, value: 50.199203187250994. Run completed at 2024-04-29 14:17:45.339249\n",
      "Loading RandomForest_NVDA_Yes-Feature-Engineering.\n",
      "Rank 1: trial no. 0, value: 47.410358565737056. Run completed at 2024-04-29 14:19:23.968185\n",
      "Loading RandomForest_NVDA_No-Feature-Engineering.\n",
      "Rank 1: trial no. 0, value: 50.59760956175299. Run completed at 2024-04-29 14:18:04.329617\n",
      "Loading RandomForest_JPM_Yes-Feature-Engineering.\n",
      "Rank 1: trial no. 0, value: 51.39442231075697. Run completed at 2024-04-29 14:21:16.050882\n",
      "Loading RandomForest_JPM_No-Feature-Engineering.\n",
      "Rank 1: trial no. 0, value: 47.808764940239044. Run completed at 2024-04-29 14:19:32.183616\n",
      "Loading RandomForest_HD_Yes-Feature-Engineering.\n",
      "Rank 1: trial no. 0, value: 52.98804780876494. Run completed at 2024-04-29 14:22:59.787532\n",
      "Loading RandomForest_HD_No-Feature-Engineering.\n",
      "Rank 1: trial no. 0, value: 43.02788844621514. Run completed at 2024-04-29 14:21:24.810764\n",
      "Loading RandomForest_UNH_Yes-Feature-Engineering.\n",
      "Rank 1: trial no. 0, value: 51.79282868525896. Run completed at 2024-04-29 14:24:31.640818\n",
      "Loading RandomForest_UNH_No-Feature-Engineering.\n",
      "Rank 1: trial no. 0, value: 50.199203187250994. Run completed at 2024-04-29 14:23:07.511479\n",
      "Loading CNN_NVDA_Yes-Feature-Engineering.\n",
      "Rank 1: trial no. 0, value: 0.5378485918045044. Run completed at 2024-04-29 14:26:28.496674\n",
      "Loading CNN_NVDA_No-Feature-Engineering.\n",
      "Rank 1: trial no. 0, value: 0.5179283022880554. Run completed at 2024-04-29 14:25:57.501574\n",
      "Loading CNN_JPM_Yes-Feature-Engineering.\n",
      "Rank 1: trial no. 0, value: 0.5458167195320129. Run completed at 2024-04-29 14:27:40.619409\n",
      "Loading CNN_JPM_No-Feature-Engineering.\n",
      "Rank 1: trial no. 0, value: 0.5458167195320129. Run completed at 2024-04-29 14:27:10.325449\n",
      "Loading CNN_HD_Yes-Feature-Engineering.\n",
      "Rank 1: trial no. 0, value: 0.5498008131980896. Run completed at 2024-04-29 14:28:43.077136\n",
      "Loading CNN_HD_No-Feature-Engineering.\n",
      "Rank 1: trial no. 0, value: 0.5737051963806152. Run completed at 2024-04-29 14:28:09.833524\n",
      "Loading CNN_UNH_Yes-Feature-Engineering.\n",
      "Rank 1: trial no. 0, value: 0.5577689409255981. Run completed at 2024-04-29 14:29:47.895458\n",
      "Loading CNN_UNH_No-Feature-Engineering.\n",
      "Rank 1: trial no. 0, value: 0.5657370686531067. Run completed at 2024-04-29 14:29:24.932915\n",
      "Loading LSTM_NVDA_Yes-Feature-Engineering.\n",
      "Rank 1: trial no. 0, value: 0.5537848472595215. Run completed at 2024-04-29 14:34:44.074320\n",
      "Loading LSTM_NVDA_No-Feature-Engineering.\n",
      "Rank 1: trial no. 0, value: 0.5458167195320129. Run completed at 2024-04-29 14:34:27.434376\n",
      "Loading LSTM_JPM_Yes-Feature-Engineering.\n",
      "Rank 1: trial no. 0, value: 0.525896430015564. Run completed at 2024-04-29 14:35:35.519313\n",
      "Loading LSTM_JPM_No-Feature-Engineering.\n",
      "Rank 1: trial no. 0, value: 0.5657370686531067. Run completed at 2024-04-29 14:35:04.394477\n",
      "Loading LSTM_HD_Yes-Feature-Engineering.\n",
      "Rank 1: trial no. 0, value: 0.5378485918045044. Run completed at 2024-04-29 14:36:28.609972\n",
      "Loading LSTM_HD_No-Feature-Engineering.\n",
      "Rank 1: trial no. 0, value: 0.5219123363494873. Run completed at 2024-04-29 14:35:57.649011\n",
      "Loading LSTM_UNH_Yes-Feature-Engineering.\n",
      "Rank 1: trial no. 0, value: 0.5577689409255981. Run completed at 2024-04-29 14:25:30.109564\n",
      "Loading LSTM_UNH_No-Feature-Engineering.\n",
      "Rank 1: trial no. 0, value: 0.5458167195320129. Run completed at 2024-04-29 14:25:00.538455\n",
      "Loading ConvLSTM_NVDA_Yes-Feature-Engineering.\n",
      "Rank 1: trial no. 0, value: 0.5179283022880554. Run completed at 2024-04-29 14:30:37.460949\n",
      "Loading ConvLSTM_NVDA_No-Feature-Engineering.\n",
      "Rank 1: trial no. 0, value: 0.5179283022880554. Run completed at 2024-04-29 14:30:05.073017\n",
      "Loading ConvLSTM_JPM_Yes-Feature-Engineering.\n",
      "Rank 1: trial no. 0, value: 0.525896430015564. Run completed at 2024-04-29 14:31:21.965994\n",
      "Loading ConvLSTM_JPM_No-Feature-Engineering.\n",
      "Rank 1: trial no. 0, value: 0.525896430015564. Run completed at 2024-04-29 14:30:58.192919\n",
      "Loading ConvLSTM_HD_Yes-Feature-Engineering.\n",
      "Rank 1: trial no. 0, value: 0.5139442086219788. Run completed at 2024-04-29 14:32:02.569686\n",
      "Loading ConvLSTM_HD_No-Feature-Engineering.\n",
      "Rank 1: trial no. 0, value: 0.5139442086219788. Run completed at 2024-04-29 14:31:40.298160\n",
      "Loading ConvLSTM_UNH_Yes-Feature-Engineering.\n",
      "Rank 1: trial no. 0, value: 0.5577689409255981. Run completed at 2024-04-29 14:32:56.464764\n",
      "Loading ConvLSTM_UNH_No-Feature-Engineering.\n",
      "Rank 1: trial no. 0, value: 0.5577689409255981. Run completed at 2024-04-29 14:32:28.216694\n"
     ]
    },
    {
     "name": "stderr",
     "output_type": "stream",
     "text": [
      "/var/folders/d7/ktx3dym91yjgj_gpmnfs0rh00000gn/T/ipykernel_49809/548548786.py:11: FutureWarning: The behavior of DataFrame concatenation with empty or all-NA entries is deprecated. In a future version, this will no longer exclude empty or all-NA columns when determining the result dtypes. To retain the old behavior, exclude the relevant entries before the concat operation.\n",
      "  yes_df = pd.concat(yes_df)\n",
      "/var/folders/d7/ktx3dym91yjgj_gpmnfs0rh00000gn/T/ipykernel_49809/548548786.py:12: FutureWarning: The behavior of DataFrame concatenation with empty or all-NA entries is deprecated. In a future version, this will no longer exclude empty or all-NA columns when determining the result dtypes. To retain the old behavior, exclude the relevant entries before the concat operation.\n",
      "  no = pd.concat(no_df)\n"
     ]
    }
   ],
   "source": [
    "models = [\"Linear\", \"ARIMA\", \"RandomForest\", \"CNN\", \"LSTM\", \"ConvLSTM\"]\n",
    "stocks = [\"NVDA\", \"JPM\", \"HD\", \"UNH\"]\n",
    "\n",
    "yes_df = []\n",
    "no_df = []\n",
    "for m in models:\n",
    "    for s in stocks:\n",
    "        yes_df.append(get_results_df(f\"{m}_{s}_Yes-Feature-Engineering\"))\n",
    "        no_df.append(get_results_df(f\"{m}_{s}_No-Feature-Engineering\"))\n",
    "\n",
    "yes_df = pd.concat(yes_df)\n",
    "no_df = pd.concat(no_df)\n"
   ]
  },
  {
   "cell_type": "code",
   "execution_count": 105,
   "metadata": {},
   "outputs": [
    {
     "data": {
      "text/plain": [
       "R2                  -20.21329884\n",
       "MSE                   0.00940316\n",
       "RMSE                  0.02153411\n",
       "MAE                   0.02188086\n",
       "p                     0.00893545\n",
       "Accuracy              0.03320053\n",
       "Avg. daily return     0.00000542\n",
       "Std. daily return     0.00003772\n",
       "Risk adj. return     -0.00014600\n",
       "dtype: float64"
      ]
     },
     "execution_count": 105,
     "metadata": {},
     "output_type": "execute_result"
    }
   ],
   "source": [
    "# Aggregating by stock\n",
    "df = yes_df.copy()\n",
    "df = (df[\"Validation set\"]) / 2\n",
    "df[\"Stock\"] = df.index.str.split(\"_\").str[1]\n",
    "df =df.groupby(\"Stock\").mean()\n",
    "after = df\n",
    "\n",
    "df = no_df.copy()\n",
    "df = (df[\"Validation set\"]) / 2\n",
    "df[\"Stock\"] = df.index.str.split(\"_\").str[1]\n",
    "df =df.groupby(\"Stock\").mean()\n",
    "before = df\n",
    "\n",
    "(after - before).mean()"
   ]
  }
 ],
 "metadata": {
  "kernelspec": {
   "display_name": "proj",
   "language": "python",
   "name": "python3"
  },
  "language_info": {
   "codemirror_mode": {
    "name": "ipython",
    "version": 3
   },
   "file_extension": ".py",
   "mimetype": "text/x-python",
   "name": "python",
   "nbconvert_exporter": "python",
   "pygments_lexer": "ipython3",
   "version": "3.9.16"
  }
 },
 "nbformat": 4,
 "nbformat_minor": 2
}
