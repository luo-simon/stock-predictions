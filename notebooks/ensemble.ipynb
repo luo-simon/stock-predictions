{
 "cells": [
  {
   "cell_type": "markdown",
   "metadata": {},
   "source": [
    "# Ensemble model"
   ]
  },
  {
   "cell_type": "code",
   "execution_count": 1,
   "metadata": {},
   "outputs": [],
   "source": [
    "import os\n",
    "import numpy as np\n",
    "import pandas as pd\n",
    "import seaborn as sns\n",
    "import matplotlib.pyplot as plt\n",
    "import scipy.stats as stats\n",
    "import sys  \n",
    "sys.path.insert(1, '/Users/simon/Documents/II/Dissertation/')\n",
    "from src.evaluate import get_prediction_dfs_from_experiment, get_all_metrics, visualise\n",
    "from src.misc import load_processed_dataset\n",
    "\n",
    "\n",
    "%load_ext autoreload\n",
    "%autoreload 2"
   ]
  },
  {
   "cell_type": "markdown",
   "metadata": {},
   "source": [
    "Original results aggregated by stock"
   ]
  },
  {
   "cell_type": "code",
   "execution_count": 61,
   "metadata": {},
   "outputs": [
    {
     "name": "stderr",
     "output_type": "stream",
     "text": [
      "/var/folders/d7/ktx3dym91yjgj_gpmnfs0rh00000gn/T/ipykernel_18903/432629186.py:7: PerformanceWarning: dropping on a non-lexsorted multi-index without a level parameter may impact performance.\n",
      "  orig_by_stock = orig.drop(columns=[\"Hyperparameters\", \"Model Type\"]).groupby(\"Stock\").mean().loc[[\"NVDA\", \"JPM\", \"HD\", \"UNH\"]][\"Test set\"]\n",
      "/var/folders/d7/ktx3dym91yjgj_gpmnfs0rh00000gn/T/ipykernel_18903/432629186.py:8: PerformanceWarning: dropping on a non-lexsorted multi-index without a level parameter may impact performance.\n",
      "  orig_by_model = orig.drop(columns=[\"Hyperparameters\", \"Stock\"]).groupby(\"Model Type\").mean().loc[[\"Linear\", \"ARIMA\", \"RandomForest\", \"CNN\", \"LSTM\", \"ConvLSTM\"]][\"Test set\"]\n"
     ]
    },
    {
     "data": {
      "text/html": [
       "<div>\n",
       "<style scoped>\n",
       "    .dataframe tbody tr th:only-of-type {\n",
       "        vertical-align: middle;\n",
       "    }\n",
       "\n",
       "    .dataframe tbody tr th {\n",
       "        vertical-align: top;\n",
       "    }\n",
       "\n",
       "    .dataframe thead th {\n",
       "        text-align: right;\n",
       "    }\n",
       "</style>\n",
       "<table border=\"1\" class=\"dataframe\">\n",
       "  <thead>\n",
       "    <tr style=\"text-align: right;\">\n",
       "      <th></th>\n",
       "      <th>R2</th>\n",
       "      <th>MSE</th>\n",
       "      <th>RMSE</th>\n",
       "      <th>MAE</th>\n",
       "      <th>p</th>\n",
       "      <th>Accuracy</th>\n",
       "      <th>Avg. daily return</th>\n",
       "      <th>Std. daily return</th>\n",
       "      <th>Risk adj. return</th>\n",
       "    </tr>\n",
       "    <tr>\n",
       "      <th>Model Type</th>\n",
       "      <th></th>\n",
       "      <th></th>\n",
       "      <th></th>\n",
       "      <th></th>\n",
       "      <th></th>\n",
       "      <th></th>\n",
       "      <th></th>\n",
       "      <th></th>\n",
       "      <th></th>\n",
       "    </tr>\n",
       "  </thead>\n",
       "  <tbody>\n",
       "    <tr>\n",
       "      <th>Linear</th>\n",
       "      <td>-0.01909141</td>\n",
       "      <td>0.00035809</td>\n",
       "      <td>0.01752181</td>\n",
       "      <td>0.01252915</td>\n",
       "      <td>0.02385229</td>\n",
       "      <td>49.10000000</td>\n",
       "      <td>0.00090831</td>\n",
       "      <td>0.01171694</td>\n",
       "      <td>0.05495246</td>\n",
       "    </tr>\n",
       "    <tr>\n",
       "      <th>ARIMA</th>\n",
       "      <td>-1.01053333</td>\n",
       "      <td>0.00071815</td>\n",
       "      <td>0.02469201</td>\n",
       "      <td>0.01912823</td>\n",
       "      <td>-0.00055633</td>\n",
       "      <td>48.80000000</td>\n",
       "      <td>0.00058564</td>\n",
       "      <td>0.01129133</td>\n",
       "      <td>0.04494016</td>\n",
       "    </tr>\n",
       "    <tr>\n",
       "      <th>RandomForest</th>\n",
       "      <td>-0.10110938</td>\n",
       "      <td>0.00042627</td>\n",
       "      <td>0.01860393</td>\n",
       "      <td>0.01317114</td>\n",
       "      <td>-0.00732916</td>\n",
       "      <td>50.30000000</td>\n",
       "      <td>0.00086942</td>\n",
       "      <td>0.01082230</td>\n",
       "      <td>0.07098626</td>\n",
       "    </tr>\n",
       "    <tr>\n",
       "      <th>CNN</th>\n",
       "      <td>-0.16178257</td>\n",
       "      <td>0.00038139</td>\n",
       "      <td>0.01834945</td>\n",
       "      <td>0.01319566</td>\n",
       "      <td>-0.04282749</td>\n",
       "      <td>50.20000000</td>\n",
       "      <td>0.00119086</td>\n",
       "      <td>0.01503570</td>\n",
       "      <td>0.03647862</td>\n",
       "    </tr>\n",
       "    <tr>\n",
       "      <th>LSTM</th>\n",
       "      <td>-0.00462845</td>\n",
       "      <td>0.00035063</td>\n",
       "      <td>0.01737026</td>\n",
       "      <td>0.01233547</td>\n",
       "      <td>0.02478478</td>\n",
       "      <td>52.70000000</td>\n",
       "      <td>0.00125459</td>\n",
       "      <td>0.01608904</td>\n",
       "      <td>0.04510046</td>\n",
       "    </tr>\n",
       "    <tr>\n",
       "      <th>ConvLSTM</th>\n",
       "      <td>-0.00106495</td>\n",
       "      <td>0.00034991</td>\n",
       "      <td>0.01734557</td>\n",
       "      <td>0.01233434</td>\n",
       "      <td>0.00839879</td>\n",
       "      <td>55.00000000</td>\n",
       "      <td>0.00175389</td>\n",
       "      <td>0.01711801</td>\n",
       "      <td>0.08239443</td>\n",
       "    </tr>\n",
       "  </tbody>\n",
       "</table>\n",
       "</div>"
      ],
      "text/plain": [
       "                      R2        MSE       RMSE        MAE           p  \\\n",
       "Model Type                                                              \n",
       "Linear       -0.01909141 0.00035809 0.01752181 0.01252915  0.02385229   \n",
       "ARIMA        -1.01053333 0.00071815 0.02469201 0.01912823 -0.00055633   \n",
       "RandomForest -0.10110938 0.00042627 0.01860393 0.01317114 -0.00732916   \n",
       "CNN          -0.16178257 0.00038139 0.01834945 0.01319566 -0.04282749   \n",
       "LSTM         -0.00462845 0.00035063 0.01737026 0.01233547  0.02478478   \n",
       "ConvLSTM     -0.00106495 0.00034991 0.01734557 0.01233434  0.00839879   \n",
       "\n",
       "                Accuracy  Avg. daily return  Std. daily return  \\\n",
       "Model Type                                                       \n",
       "Linear       49.10000000         0.00090831         0.01171694   \n",
       "ARIMA        48.80000000         0.00058564         0.01129133   \n",
       "RandomForest 50.30000000         0.00086942         0.01082230   \n",
       "CNN          50.20000000         0.00119086         0.01503570   \n",
       "LSTM         52.70000000         0.00125459         0.01608904   \n",
       "ConvLSTM     55.00000000         0.00175389         0.01711801   \n",
       "\n",
       "              Risk adj. return  \n",
       "Model Type                      \n",
       "Linear              0.05495246  \n",
       "ARIMA               0.04494016  \n",
       "RandomForest        0.07098626  \n",
       "CNN                 0.03647862  \n",
       "LSTM                0.04510046  \n",
       "ConvLSTM            0.08239443  "
      ]
     },
     "execution_count": 61,
     "metadata": {},
     "output_type": "execute_result"
    }
   ],
   "source": [
    "path = \"./results.csv\"\n",
    "if os.path.exists(path):\n",
    "    dfs = pd.read_csv(path, header=[0,1], index_col=0)\n",
    "dfs[\"Model Type\"] = dfs.index.str.split(\"_\").str[0]\n",
    "dfs[\"Stock\"] = dfs.index.str.split(\"_\").str[1]\n",
    "orig = dfs.copy()\n",
    "orig_by_stock = orig.drop(columns=[\"Hyperparameters\", \"Model Type\"]).groupby(\"Stock\").mean().loc[[\"NVDA\", \"JPM\", \"HD\", \"UNH\"]][\"Test set\"]\n",
    "orig_by_model = orig.drop(columns=[\"Hyperparameters\", \"Stock\"]).groupby(\"Model Type\").mean().loc[[\"Linear\", \"ARIMA\", \"RandomForest\", \"CNN\", \"LSTM\", \"ConvLSTM\"]][\"Test set\"]\n",
    "orig_by_model"
   ]
  },
  {
   "cell_type": "markdown",
   "metadata": {},
   "source": [
    "Ensemble model of positive accuracy learners"
   ]
  },
  {
   "cell_type": "code",
   "execution_count": 60,
   "metadata": {},
   "outputs": [
    {
     "name": "stdout",
     "output_type": "stream",
     "text": [
      "Loading RandomForest_NVDA.\n",
      "Rank 1: trial no. 1, value: 50.59760956175299. Run completed at 2024-04-29 17:44:32.475530\n",
      "Loading RandomForest_JPM.\n",
      "Rank 1: trial no. 8, value: 53.38645418326693. Run completed at 2024-04-29 17:51:43.110122\n",
      "Loading RandomForest_HD.\n",
      "Rank 1: trial no. 6, value: 54.18326693227091. Run completed at 2024-04-29 17:56:56.054294\n",
      "Loading RandomForest_UNH.\n",
      "Rank 1: trial no. 3, value: 55.77689243027888. Run completed at 2024-04-29 17:59:37.088842\n",
      "Loading CNN_NVDA.\n",
      "Rank 1: trial no. 11, value: 0.5737051963806152. Run completed at 2024-04-29 20:22:15.814904\n",
      "Loading CNN_JPM.\n",
      "Rank 1: trial no. 9, value: 0.5737051963806152. Run completed at 2024-04-29 18:34:47.643948\n",
      "Loading CNN_HD.\n",
      "Rank 1: trial no. 0, value: 0.5498008131980896. Run completed at 2024-04-29 18:35:17.552823\n",
      "Loading CNN_UNH.\n",
      "Rank 1: trial no. 8, value: 0.5816733241081238. Run completed at 2024-04-29 18:44:16.965952\n",
      "Loading LSTM_NVDA.\n",
      "Rank 1: trial no. 0, value: 0.5537848472595215. Run completed at 2024-04-29 18:01:30.993116\n",
      "Loading LSTM_JPM.\n",
      "Rank 1: trial no. 3, value: 0.6175298690795898. Run completed at 2024-04-29 18:13:38.976207\n",
      "Loading LSTM_HD.\n",
      "Rank 1: trial no. 4, value: 0.6055777072906494. Run completed at 2024-04-29 18:19:41.955427\n",
      "Loading LSTM_UNH.\n",
      "Rank 1: trial no. 11, value: 0.5896414518356323. Run completed at 2024-04-29 20:23:47.878337\n",
      "Loading ConvLSTM_NVDA.\n",
      "Rank 1: trial no. 2, value: 0.518652081489563. Run completed at 2024-04-29 18:47:06.218729\n",
      "Loading ConvLSTM_JPM.\n",
      "Rank 1: trial no. 26, value: 0.5697211027145386. Run completed at 2024-04-29 20:35:01.199259\n",
      "Loading ConvLSTM_HD.\n",
      "Rank 1: trial no. 6, value: 0.5231999158859253. Run completed at 2024-04-29 19:04:03.502803\n",
      "Loading ConvLSTM_UNH.\n",
      "Rank 1: trial no. 0, value: 0.5577689409255981. Run completed at 2024-04-29 16:26:05.723444\n"
     ]
    },
    {
     "data": {
      "text/plain": [
       "R2                  -0.02602749\n",
       "MSE                  0.00036070\n",
       "RMSE                 0.01758301\n",
       "MAE                  0.01253625\n",
       "p                   -0.03972312\n",
       "Accuracy            51.50000000\n",
       "Avg. daily return    0.00091445\n",
       "Std. daily return    0.01339927\n",
       "Risk adj. return     0.04897786\n",
       "dtype: float64"
      ]
     },
     "execution_count": 60,
     "metadata": {},
     "output_type": "execute_result"
    }
   ],
   "source": [
    "models = [\"RandomForest\", \"CNN\", \"LSTM\", \"ConvLSTM\"]\n",
    "stocks = [\"NVDA\", \"JPM\", \"HD\", \"UNH\"]\n",
    "\n",
    "dfs = []\n",
    "for m in models:\n",
    "    for s in stocks:\n",
    "        exp_name = f\"{m}_{s}\"\n",
    "        val_df, test_df, hparams = get_prediction_dfs_from_experiment(experiment_name=exp_name)\n",
    "        test_df[\"Model Type\"] = m\n",
    "        test_df[\"Stock\"] = s\n",
    "        dfs.append(test_df)\n",
    "dfs = pd.concat(dfs)\n",
    "dfs = dfs.drop(columns=[\"Model Type\"]).groupby([\"Date\",\"Stock\"]).mean()\n",
    "\n",
    "metrics = []\n",
    "for s in stocks:\n",
    "    df = dfs.xs(s, level=\"Stock\")\n",
    "    metrics.append(get_all_metrics(df[\"Predictions\"], df[\"Actuals\"]))\n",
    "metrics = pd.DataFrame(metrics, index=stocks)\n",
    "metrics.mean()"
   ]
  },
  {
   "cell_type": "markdown",
   "metadata": {},
   "source": [
    "Ensemble of all learners"
   ]
  },
  {
   "cell_type": "code",
   "execution_count": 62,
   "metadata": {},
   "outputs": [
    {
     "name": "stdout",
     "output_type": "stream",
     "text": [
      "Loading Linear_NVDA.\n",
      "Rank 1: trial no. 0, value: 45.0199203187251. Run completed at 2024-04-29 16:52:25.570862\n",
      "Loading Linear_JPM.\n",
      "Rank 1: trial no. 0, value: 46.613545816733065. Run completed at 2024-04-29 16:52:27.015066\n",
      "Loading Linear_HD.\n",
      "Rank 1: trial no. 0, value: 52.589641434262944. Run completed at 2024-04-29 16:52:28.379346\n",
      "Loading Linear_UNH.\n",
      "Rank 1: trial no. 0, value: 47.808764940239044. Run completed at 2024-04-29 16:52:29.689755\n",
      "Loading ARIMA_NVDA.\n",
      "Rank 1: trial no. 18, value: 56.97211155378486. Run completed at 2024-04-29 17:11:04.256046\n",
      "Loading ARIMA_JPM.\n",
      "Rank 1: trial no. 1, value: 52.98804780876494. Run completed at 2024-04-29 17:15:08.552541\n",
      "Loading ARIMA_HD.\n",
      "Rank 1: trial no. 4, value: 52.98804780876494. Run completed at 2024-04-29 17:27:20.232495\n",
      "Loading ARIMA_UNH.\n",
      "Rank 1: trial no. 1, value: 47.01195219123506. Run completed at 2024-04-29 17:35:18.839560\n",
      "Loading RandomForest_NVDA.\n",
      "Rank 1: trial no. 1, value: 50.59760956175299. Run completed at 2024-04-29 17:44:32.475530\n",
      "Loading RandomForest_JPM.\n",
      "Rank 1: trial no. 8, value: 53.38645418326693. Run completed at 2024-04-29 17:51:43.110122\n",
      "Loading RandomForest_HD.\n",
      "Rank 1: trial no. 6, value: 54.18326693227091. Run completed at 2024-04-29 17:56:56.054294\n",
      "Loading RandomForest_UNH.\n",
      "Rank 1: trial no. 3, value: 55.77689243027888. Run completed at 2024-04-29 17:59:37.088842\n",
      "Loading CNN_NVDA.\n",
      "Rank 1: trial no. 11, value: 0.5737051963806152. Run completed at 2024-04-29 20:22:15.814904\n",
      "Loading CNN_JPM.\n",
      "Rank 1: trial no. 9, value: 0.5737051963806152. Run completed at 2024-04-29 18:34:47.643948\n",
      "Loading CNN_HD.\n",
      "Rank 1: trial no. 0, value: 0.5498008131980896. Run completed at 2024-04-29 18:35:17.552823\n",
      "Loading CNN_UNH.\n",
      "Rank 1: trial no. 8, value: 0.5816733241081238. Run completed at 2024-04-29 18:44:16.965952\n",
      "Loading LSTM_NVDA.\n",
      "Rank 1: trial no. 0, value: 0.5537848472595215. Run completed at 2024-04-29 18:01:30.993116\n",
      "Loading LSTM_JPM.\n",
      "Rank 1: trial no. 3, value: 0.6175298690795898. Run completed at 2024-04-29 18:13:38.976207\n",
      "Loading LSTM_HD.\n",
      "Rank 1: trial no. 4, value: 0.6055777072906494. Run completed at 2024-04-29 18:19:41.955427\n",
      "Loading LSTM_UNH.\n",
      "Rank 1: trial no. 11, value: 0.5896414518356323. Run completed at 2024-04-29 20:23:47.878337\n",
      "Loading ConvLSTM_NVDA.\n",
      "Rank 1: trial no. 2, value: 0.518652081489563. Run completed at 2024-04-29 18:47:06.218729\n",
      "Loading ConvLSTM_JPM.\n",
      "Rank 1: trial no. 26, value: 0.5697211027145386. Run completed at 2024-04-29 20:35:01.199259\n",
      "Loading ConvLSTM_HD.\n",
      "Rank 1: trial no. 6, value: 0.5231999158859253. Run completed at 2024-04-29 19:04:03.502803\n",
      "Loading ConvLSTM_UNH.\n",
      "Rank 1: trial no. 0, value: 0.5577689409255981. Run completed at 2024-04-29 16:26:05.723444\n"
     ]
    },
    {
     "data": {
      "text/plain": [
       "R2                  -0.03926330\n",
       "MSE                  0.00036640\n",
       "RMSE                 0.01770864\n",
       "MAE                  0.01272426\n",
       "p                   -0.01848382\n",
       "Accuracy            48.70000000\n",
       "Avg. daily return    0.00066838\n",
       "Std. daily return    0.01147748\n",
       "Risk adj. return     0.04684723\n",
       "dtype: float64"
      ]
     },
     "execution_count": 62,
     "metadata": {},
     "output_type": "execute_result"
    }
   ],
   "source": [
    "models = [\"Linear\", \"ARIMA\", \"RandomForest\", \"CNN\", \"LSTM\", \"ConvLSTM\"]\n",
    "stocks = [\"NVDA\", \"JPM\", \"HD\", \"UNH\"]\n",
    "\n",
    "dfs = []\n",
    "for m in models:\n",
    "    for s in stocks:\n",
    "        exp_name = f\"{m}_{s}\"\n",
    "        val_df, test_df, hparams = get_prediction_dfs_from_experiment(experiment_name=exp_name)\n",
    "        test_df[\"Model Type\"] = m\n",
    "        test_df[\"Stock\"] = s\n",
    "        dfs.append(test_df)\n",
    "dfs = pd.concat(dfs)\n",
    "dfs = dfs.drop(columns=[\"Model Type\"]).groupby([\"Date\",\"Stock\"]).mean()\n",
    "\n",
    "metrics = []\n",
    "for s in stocks:\n",
    "    df = dfs.xs(s, level=\"Stock\")\n",
    "    metrics.append(get_all_metrics(df[\"Predictions\"], df[\"Actuals\"]))\n",
    "metrics = pd.DataFrame(metrics, index=stocks)\n",
    "metrics.mean()"
   ]
  },
  {
   "cell_type": "markdown",
   "metadata": {},
   "source": [
    "Ensemble of deep learning models"
   ]
  },
  {
   "cell_type": "code",
   "execution_count": 63,
   "metadata": {},
   "outputs": [
    {
     "name": "stdout",
     "output_type": "stream",
     "text": [
      "Loading CNN_NVDA.\n",
      "Rank 1: trial no. 11, value: 0.5737051963806152. Run completed at 2024-04-29 20:22:15.814904\n",
      "Loading CNN_JPM.\n",
      "Rank 1: trial no. 9, value: 0.5737051963806152. Run completed at 2024-04-29 18:34:47.643948\n",
      "Loading CNN_HD.\n",
      "Rank 1: trial no. 0, value: 0.5498008131980896. Run completed at 2024-04-29 18:35:17.552823\n",
      "Loading CNN_UNH.\n",
      "Rank 1: trial no. 8, value: 0.5816733241081238. Run completed at 2024-04-29 18:44:16.965952\n",
      "Loading LSTM_NVDA.\n",
      "Rank 1: trial no. 0, value: 0.5537848472595215. Run completed at 2024-04-29 18:01:30.993116\n",
      "Loading LSTM_JPM.\n",
      "Rank 1: trial no. 3, value: 0.6175298690795898. Run completed at 2024-04-29 18:13:38.976207\n",
      "Loading LSTM_HD.\n",
      "Rank 1: trial no. 4, value: 0.6055777072906494. Run completed at 2024-04-29 18:19:41.955427\n",
      "Loading LSTM_UNH.\n",
      "Rank 1: trial no. 11, value: 0.5896414518356323. Run completed at 2024-04-29 20:23:47.878337\n",
      "Loading ConvLSTM_NVDA.\n",
      "Rank 1: trial no. 2, value: 0.518652081489563. Run completed at 2024-04-29 18:47:06.218729\n",
      "Loading ConvLSTM_JPM.\n",
      "Rank 1: trial no. 26, value: 0.5697211027145386. Run completed at 2024-04-29 20:35:01.199259\n",
      "Loading ConvLSTM_HD.\n",
      "Rank 1: trial no. 6, value: 0.5231999158859253. Run completed at 2024-04-29 19:04:03.502803\n",
      "Loading ConvLSTM_UNH.\n",
      "Rank 1: trial no. 0, value: 0.5577689409255981. Run completed at 2024-04-29 16:26:05.723444\n"
     ]
    },
    {
     "data": {
      "text/plain": [
       "R2                  -0.02423907\n",
       "MSE                  0.00035377\n",
       "RMSE                 0.01749355\n",
       "MAE                  0.01245824\n",
       "p                   -0.01024205\n",
       "Accuracy            52.00000000\n",
       "Avg. daily return    0.00138459\n",
       "Std. daily return    0.01606900\n",
       "Risk adj. return     0.05566150\n",
       "dtype: float64"
      ]
     },
     "execution_count": 63,
     "metadata": {},
     "output_type": "execute_result"
    }
   ],
   "source": [
    "models = [\"CNN\", \"LSTM\", \"ConvLSTM\"]\n",
    "stocks = [\"NVDA\", \"JPM\", \"HD\", \"UNH\"]\n",
    "\n",
    "dfs = []\n",
    "for m in models:\n",
    "    for s in stocks:\n",
    "        exp_name = f\"{m}_{s}\"\n",
    "        val_df, test_df, hparams = get_prediction_dfs_from_experiment(experiment_name=exp_name)\n",
    "        test_df[\"Model Type\"] = m\n",
    "        test_df[\"Stock\"] = s\n",
    "        dfs.append(test_df)\n",
    "dfs = pd.concat(dfs)\n",
    "dfs = dfs.drop(columns=[\"Model Type\"]).groupby([\"Date\",\"Stock\"]).mean()\n",
    "\n",
    "metrics = []\n",
    "for s in stocks:\n",
    "    df = dfs.xs(s, level=\"Stock\")\n",
    "    metrics.append(get_all_metrics(df[\"Predictions\"], df[\"Actuals\"]))\n",
    "metrics = pd.DataFrame(metrics, index=stocks)\n",
    "metrics.mean()"
   ]
  },
  {
   "cell_type": "code",
   "execution_count": 64,
   "metadata": {},
   "outputs": [
    {
     "name": "stdout",
     "output_type": "stream",
     "text": [
      "Loading CNN_NVDA.\n",
      "Rank 1: trial no. 11, value: 0.5737051963806152. Run completed at 2024-04-29 20:22:15.814904\n",
      "Loading CNN_JPM.\n",
      "Rank 1: trial no. 9, value: 0.5737051963806152. Run completed at 2024-04-29 18:34:47.643948\n",
      "Loading CNN_HD.\n",
      "Rank 1: trial no. 0, value: 0.5498008131980896. Run completed at 2024-04-29 18:35:17.552823\n",
      "Loading CNN_UNH.\n",
      "Rank 1: trial no. 8, value: 0.5816733241081238. Run completed at 2024-04-29 18:44:16.965952\n",
      "Loading LSTM_NVDA.\n",
      "Rank 1: trial no. 0, value: 0.5537848472595215. Run completed at 2024-04-29 18:01:30.993116\n",
      "Loading LSTM_JPM.\n",
      "Rank 1: trial no. 3, value: 0.6175298690795898. Run completed at 2024-04-29 18:13:38.976207\n",
      "Loading LSTM_HD.\n",
      "Rank 1: trial no. 4, value: 0.6055777072906494. Run completed at 2024-04-29 18:19:41.955427\n",
      "Loading LSTM_UNH.\n",
      "Rank 1: trial no. 11, value: 0.5896414518356323. Run completed at 2024-04-29 20:23:47.878337\n"
     ]
    },
    {
     "data": {
      "text/plain": [
       "R2                  -0.04951123\n",
       "MSE                  0.00035996\n",
       "RMSE                 0.01767374\n",
       "MAE                  0.01262452\n",
       "p                   -0.01063027\n",
       "Accuracy            50.60000000\n",
       "Avg. daily return    0.00120291\n",
       "Std. daily return    0.01558573\n",
       "Risk adj. return     0.04666328\n",
       "dtype: float64"
      ]
     },
     "execution_count": 64,
     "metadata": {},
     "output_type": "execute_result"
    }
   ],
   "source": [
    "models = [\"CNN\", \"LSTM\"]\n",
    "stocks = [\"NVDA\", \"JPM\", \"HD\", \"UNH\"]\n",
    "\n",
    "dfs = []\n",
    "for m in models:\n",
    "    for s in stocks:\n",
    "        exp_name = f\"{m}_{s}\"\n",
    "        val_df, test_df, hparams = get_prediction_dfs_from_experiment(experiment_name=exp_name)\n",
    "        test_df[\"Model Type\"] = m\n",
    "        test_df[\"Stock\"] = s\n",
    "        dfs.append(test_df)\n",
    "dfs = pd.concat(dfs)\n",
    "dfs = dfs.drop(columns=[\"Model Type\"]).groupby([\"Date\",\"Stock\"]).mean()\n",
    "\n",
    "metrics = []\n",
    "for s in stocks:\n",
    "    df = dfs.xs(s, level=\"Stock\")\n",
    "    metrics.append(get_all_metrics(df[\"Predictions\"], df[\"Actuals\"]))\n",
    "metrics = pd.DataFrame(metrics, index=stocks)\n",
    "metrics.mean()"
   ]
  },
  {
   "cell_type": "code",
   "execution_count": null,
   "metadata": {},
   "outputs": [],
   "source": []
  }
 ],
 "metadata": {
  "kernelspec": {
   "display_name": "proj",
   "language": "python",
   "name": "python3"
  },
  "language_info": {
   "codemirror_mode": {
    "name": "ipython",
    "version": 3
   },
   "file_extension": ".py",
   "mimetype": "text/x-python",
   "name": "python",
   "nbconvert_exporter": "python",
   "pygments_lexer": "ipython3",
   "version": "3.9.16"
  }
 },
 "nbformat": 4,
 "nbformat_minor": 2
}
