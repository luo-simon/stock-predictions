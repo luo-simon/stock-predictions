{
 "cells": [
  {
   "cell_type": "markdown",
   "metadata": {},
   "source": [
    "Retrieving company financials (income sheet, balance sheet, cash flow)"
   ]
  },
  {
   "cell_type": "code",
   "execution_count": 3,
   "metadata": {},
   "outputs": [
    {
     "name": "stdout",
     "output_type": "stream",
     "text": [
      "b'<!DOCTYPE html PUBLIC \"-//W3C//DTD XHTML 1.0 Transitional//EN\" \"http://www.w3.org/TR/xhtml1/DTD/xhtml1-transitional.dtd\">\\n<html xmlns=\"http://www.w3.org/1999/xhtml\">\\n<head>\\n<meta http-equiv=\"Content-Type\" content=\"text/html; charset=UTF-8\" />\\n<title>SEC.gov | Request Rate Threshold Exceeded</title>\\n<style>\\nhtml {height: 100%}\\nbody {height: 100%; margin:0; padding:0;}\\n#header {background-color:#003968; color:#fff; padding:15px 20px 10px 20px;font-family:Arial, Helvetica, sans-serif; font-size:20px; border-bottom:solid 5px #000;}\\n#footer {background-color:#003968; color:#fff; padding:15px 20px;font-family:Arial, Helvetica, sans-serif; font-size:20px;}\\n#content {max-width:650px;margin:60px auto; padding:0 20px 100px 20px; background-image:url(seal_bw.png);background-repeat:no-repeat;background-position:50% 100%;}\\nh1 {font-family:Georgia, Times, serif; font-size:20px;}\\nh2 {text-align:center; font-family:Georgia, Times, serif; font-size:20px; width:100%; border-bottom:solid #999 1px;padding-bottom:10px; margin-bottom:20px;}\\nh3 {font-family:Georgia, Times, serif; font-size:16px; margin:25px 0 0 0;}\\np {font-family:Verdana, Geneva, sans-serif;font-size:14px;line-height:1.3;}\\n.grey_box {background-color:#eee; padding:5px 40px 20px 40px;margin-top:75px;}\\n.grey_box p {font-size:12px;line-height:1.5}\\n.note {padding: 0 40px; font-style: italic;}\\n</style>\\n</head>\\n\\n<body>\\n<div id=\"header\">U.S. Securities and Exchange Commission</div>\\n<div id=\"content\">\\n<h1>Your Request Originates from an Undeclared Automated Tool</h1>\\n<p>To allow for equitable access to all users, SEC reserves the right to limit requests originating from undeclared automated tools. Your request has been identified as part of a network of automated tools outside of the acceptable policy and will be managed until action is taken to declare your traffic.</p>\\n\\n<p>Please declare your traffic by updating your user agent to include company specific information.</p>\\n\\n\\n<p>For best practices on efficiently downloading information from SEC.gov, including the latest EDGAR filings, visit <a href=\"https://www.sec.gov/developer\" target=\"_blank\">sec.gov/developer</a>. You can also <a href=\"https://public.govdelivery.com/accounts/USSEC/subscriber/new?topic_id=USSEC_260\" target=\"_blank\">sign up for email updates</a> on the SEC open data program, including best practices that make it more efficient to download data, and SEC.gov enhancements that may impact scripted downloading processes. For more information, contact <a href=\"mailto:opendata@sec.gov\">opendata@sec.gov</a>.</p>\\n\\n<p>For more information, please see the SEC\\xe2\\x80\\x99s <a href=\"#internet\">Web Site Privacy and Security Policy</a>. Thank you for your interest in the U.S. Securities and Exchange Commission.\\n<p>Reference ID: 0.a0901002.1712192922.50c0c758</p>\\n<div class=\"grey_box\">\\n<h2>More Information</h2>\\n<h3><a name=\"internet\">Internet Security Policy</a></h3>\\n\\n<p>By using this site, you are agreeing to security monitoring and auditing. For security purposes, and to ensure that the public service remains available to users, this government computer system employs programs to monitor network traffic to identify unauthorized attempts to upload or change information or to otherwise cause damage, including attempts to deny service to users.</p>\\n\\n<p>Unauthorized attempts to upload information and/or change information on any portion of this site are strictly prohibited and are subject to prosecution under the Computer Fraud and Abuse Act of 1986 and the National Information Infrastructure Protection Act of 1996 (see Title 18 U.S.C. \\xc2\\xa7\\xc2\\xa7 1001 and 1030).</p>\\n\\n<p>To ensure our website performs well for all users, the SEC monitors the frequency of requests for SEC.gov content to ensure automated searches do not impact the ability of others to access SEC.gov content. We reserve the right to block IP addresses that submit excessive requests.  Current guidelines limit users to a total of no more than 10 requests per second, regardless of the number of machines used to submit requests. </p>\\n\\n<p>If a user or application submits more than 10 requests per second, further requests from the IP address(es) may be limited for a brief period. Once the rate of requests has dropped below the threshold for 10 minutes, the user may resume accessing content on SEC.gov. This SEC practice is designed to limit excessive automated searches on SEC.gov and is not intended or expected to impact individuals browsing the SEC.gov website. </p>\\n\\n<p>Note that this policy may change as the SEC manages SEC.gov to ensure that the website performs efficiently and remains available to all users.</p>\\n</div>\\n<br>\\n<p class=\"note\"><b>Note:</b> We do not offer technical support for developing or debugging scripted downloading processes.</P>\\n</div>\\n</body>\\n</html>\\n'\n",
      "Error fetching URL\n"
     ]
    }
   ],
   "source": [
    "import requests\n",
    "from bs4 import BeautifulSoup\n",
    "\n",
    "def get_latest_10q_url(cik):\n",
    "    search_url = f\"https://www.sec.gov/cgi-bin/browse-edgar?action=getcompany&CIK=0000320193&type=10-Q&dateb=&owner=exclude&count=1\"\n",
    "    response = requests.get(search_url)\n",
    "    print(response.content)\n",
    "    if response.status_code == 200:\n",
    "        soup = BeautifulSoup(response.content, 'html.parser')\n",
    "        filing_url_fragment = soup.find('a', attrs={'id': 'documentsbutton'})['href']\n",
    "        filing_url = f\"https://www.sec.gov{filing_url_fragment}\"\n",
    "        return filing_url\n",
    "    else:\n",
    "        return \"Error fetching URL\"\n",
    "\n",
    "# Example usage\n",
    "cik = '0000320193'  # Apple Inc's CIK\n",
    "latest_10q_url = get_latest_10q_url(cik)\n",
    "print(latest_10q_url)\n"
   ]
  },
  {
   "cell_type": "code",
   "execution_count": null,
   "metadata": {},
   "outputs": [],
   "source": []
  }
 ],
 "metadata": {
  "kernelspec": {
   "display_name": "proj",
   "language": "python",
   "name": "python3"
  },
  "language_info": {
   "codemirror_mode": {
    "name": "ipython",
    "version": 3
   },
   "file_extension": ".py",
   "mimetype": "text/x-python",
   "name": "python",
   "nbconvert_exporter": "python",
   "pygments_lexer": "ipython3",
   "version": "3.9.16"
  }
 },
 "nbformat": 4,
 "nbformat_minor": 2
}
